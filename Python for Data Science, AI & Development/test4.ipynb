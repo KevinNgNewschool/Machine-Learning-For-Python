{
 "cells": [
  {
   "cell_type": "code",
   "execution_count": 4,
   "metadata": {},
   "outputs": [
    {
     "name": "stderr",
     "output_type": "stream",
     "text": [
      "<>:10: SyntaxWarning: invalid escape sequence '\\d'\n",
      "<>:10: SyntaxWarning: invalid escape sequence '\\d'\n",
      "C:\\Users\\KHAI VINH\\AppData\\Local\\Temp\\ipykernel_16600\\463025833.py:10: SyntaxWarning: invalid escape sequence '\\d'\n",
      "  print(\"\\nTask complete!\", \"\\d\")\n"
     ]
    },
    {
     "name": "stdout",
     "output_type": "stream",
     "text": [
      "Progress: 0/10\n",
      "Progress: 1/10\n",
      "Progress: 2/10\n",
      "Progress: 3/10\n",
      "Progress: 4/10\n",
      "Progress: 5/10\n",
      "Progress: 6/10\n",
      "Progress: 7/10\n",
      "Progress: 8/10\n",
      "Progress: 9/10\n",
      "\n",
      "Task complete! \\d\n"
     ]
    }
   ],
   "source": [
    "import time\n",
    "\n",
    "# Loop to simulate progress updates\n",
    "for i in range(10):\n",
    "    # Print progress\n",
    "    print(f\"Progress: {i}/10\")\n",
    "    # Simulate some processing time\n",
    "    time.sleep(1)\n",
    "\n",
    "print(\"\\nTask complete!\", \"\\d\")\n"
   ]
  },
  {
   "cell_type": "code",
   "execution_count": null,
   "metadata": {},
   "outputs": [],
   "source": []
  }
 ],
 "metadata": {
  "kernelspec": {
   "display_name": "Python 3",
   "language": "python",
   "name": "python3"
  },
  "language_info": {
   "codemirror_mode": {
    "name": "ipython",
    "version": 3
   },
   "file_extension": ".py",
   "mimetype": "text/x-python",
   "name": "python",
   "nbconvert_exporter": "python",
   "pygments_lexer": "ipython3",
   "version": "3.12.2"
  }
 },
 "nbformat": 4,
 "nbformat_minor": 2
}
