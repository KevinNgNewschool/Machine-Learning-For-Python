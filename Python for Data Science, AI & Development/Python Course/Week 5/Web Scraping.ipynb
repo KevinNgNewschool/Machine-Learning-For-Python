{
 "cells": [
  {
   "cell_type": "code",
   "execution_count": 1,
   "metadata": {},
   "outputs": [],
   "source": [
    "from randomuser import RandomUser\n",
    "import pandas as pd"
   ]
  },
  {
   "cell_type": "code",
   "execution_count": 2,
   "metadata": {},
   "outputs": [],
   "source": [
    "r = RandomUser()\n",
    "some_list = r.generate_users(10)\\\n",
    "\n",
    "name = r.get_full_name()"
   ]
  },
  {
   "cell_type": "code",
   "execution_count": 3,
   "metadata": {},
   "outputs": [
    {
     "name": "stdout",
     "output_type": "stream",
     "text": [
      "https://randomuser.me/api/portraits/women/59.jpg\n",
      "https://randomuser.me/api/portraits/women/67.jpg\n",
      "https://randomuser.me/api/portraits/men/92.jpg\n",
      "https://randomuser.me/api/portraits/women/63.jpg\n",
      "https://randomuser.me/api/portraits/men/16.jpg\n",
      "https://randomuser.me/api/portraits/men/44.jpg\n",
      "https://randomuser.me/api/portraits/men/53.jpg\n",
      "https://randomuser.me/api/portraits/men/40.jpg\n",
      "https://randomuser.me/api/portraits/men/66.jpg\n",
      "https://randomuser.me/api/portraits/women/12.jpg\n"
     ]
    }
   ],
   "source": [
    "for user in some_list:\n",
    "    print (user.get_picture())"
   ]
  },
  {
   "cell_type": "code",
   "execution_count": 4,
   "metadata": {},
   "outputs": [],
   "source": [
    "def get_users():\n",
    "    users =[]\n",
    "     \n",
    "    for user in RandomUser.generate_users(10):\n",
    "        users.append({\"Name\":user.get_full_name(),\"Gender\":user.get_gender(),\"City\":user.get_city(),\"State\":user.get_state(),\"Email\":user.get_email(), \"DOB\":user.get_dob(),\"Picture\":user.get_picture()})\n",
    "      \n",
    "    return pd.DataFrame(users) \n",
    "\n",
    "get_users()    \n",
    "df1 = pd.DataFrame(get_users())  "
   ]
  },
  {
   "cell_type": "code",
   "execution_count": 5,
   "metadata": {},
   "outputs": [],
   "source": [
    "import requests\n",
    "import json\n",
    "\n",
    "data = requests.get(\"https://fruityvice.com/api/fruit/all\")\n",
    "results = json.loads(data.text)\n",
    "df2 = pd.json_normalize(results)"
   ]
  },
  {
   "cell_type": "code",
   "execution_count": 6,
   "metadata": {},
   "outputs": [
    {
     "data": {
      "text/plain": [
       "96"
      ]
     },
     "execution_count": 6,
     "metadata": {},
     "output_type": "execute_result"
    }
   ],
   "source": [
    "cal_banana = df2.loc[df2[\"name\"] == 'Banana']\n",
    "cal_banana.iloc[0]['nutritions.calories']"
   ]
  },
  {
   "cell_type": "code",
   "execution_count": 7,
   "metadata": {},
   "outputs": [],
   "source": [
    "data2 = requests.get(\"https://official-joke-api.appspot.com/jokes/ten\")"
   ]
  },
  {
   "cell_type": "code",
   "execution_count": 8,
   "metadata": {},
   "outputs": [],
   "source": [
    "results2 = json.loads(data2.text)"
   ]
  },
  {
   "cell_type": "code",
   "execution_count": 9,
   "metadata": {},
   "outputs": [
    {
     "data": {
      "text/html": [
       "<div>\n",
       "<style scoped>\n",
       "    .dataframe tbody tr th:only-of-type {\n",
       "        vertical-align: middle;\n",
       "    }\n",
       "\n",
       "    .dataframe tbody tr th {\n",
       "        vertical-align: top;\n",
       "    }\n",
       "\n",
       "    .dataframe thead th {\n",
       "        text-align: right;\n",
       "    }\n",
       "</style>\n",
       "<table border=\"1\" class=\"dataframe\">\n",
       "  <thead>\n",
       "    <tr style=\"text-align: right;\">\n",
       "      <th></th>\n",
       "      <th>setup</th>\n",
       "      <th>punchline</th>\n",
       "    </tr>\n",
       "  </thead>\n",
       "  <tbody>\n",
       "    <tr>\n",
       "      <th>0</th>\n",
       "      <td>What do ghosts call their true love?</td>\n",
       "      <td>Their ghoul-friend</td>\n",
       "    </tr>\n",
       "    <tr>\n",
       "      <th>1</th>\n",
       "      <td>Why do pirates not know the alphabet?</td>\n",
       "      <td>They always get stuck at \"C\".</td>\n",
       "    </tr>\n",
       "    <tr>\n",
       "      <th>2</th>\n",
       "      <td>Why are fish easy to weigh?</td>\n",
       "      <td>Because they have their own scales.</td>\n",
       "    </tr>\n",
       "    <tr>\n",
       "      <th>3</th>\n",
       "      <td>Why did the A go to the bathroom and come out ...</td>\n",
       "      <td>Because he had a vowel movement.</td>\n",
       "    </tr>\n",
       "    <tr>\n",
       "      <th>4</th>\n",
       "      <td>A SQL query walks into a bar, walks up to two ...</td>\n",
       "      <td>'Can I join you?'</td>\n",
       "    </tr>\n",
       "    <tr>\n",
       "      <th>5</th>\n",
       "      <td>How does a French skeleton say hello?</td>\n",
       "      <td>Bone-jour.</td>\n",
       "    </tr>\n",
       "    <tr>\n",
       "      <th>6</th>\n",
       "      <td>What did the grape do when he got stepped on?</td>\n",
       "      <td>He let out a little wine.</td>\n",
       "    </tr>\n",
       "    <tr>\n",
       "      <th>7</th>\n",
       "      <td>Why did the octopus beat the shark in a fight?</td>\n",
       "      <td>Because it was well armed.</td>\n",
       "    </tr>\n",
       "    <tr>\n",
       "      <th>8</th>\n",
       "      <td>What musical instrument is found in the bathroom?</td>\n",
       "      <td>A tuba toothpaste.</td>\n",
       "    </tr>\n",
       "    <tr>\n",
       "      <th>9</th>\n",
       "      <td>How many seconds are in a year?</td>\n",
       "      <td>12. January 2nd, February 2nd, March 2nd, Apri...</td>\n",
       "    </tr>\n",
       "  </tbody>\n",
       "</table>\n",
       "</div>"
      ],
      "text/plain": [
       "                                               setup  \\\n",
       "0               What do ghosts call their true love?   \n",
       "1              Why do pirates not know the alphabet?   \n",
       "2                        Why are fish easy to weigh?   \n",
       "3  Why did the A go to the bathroom and come out ...   \n",
       "4  A SQL query walks into a bar, walks up to two ...   \n",
       "5              How does a French skeleton say hello?   \n",
       "6      What did the grape do when he got stepped on?   \n",
       "7     Why did the octopus beat the shark in a fight?   \n",
       "8  What musical instrument is found in the bathroom?   \n",
       "9                    How many seconds are in a year?   \n",
       "\n",
       "                                           punchline  \n",
       "0                                 Their ghoul-friend  \n",
       "1                      They always get stuck at \"C\".  \n",
       "2                Because they have their own scales.  \n",
       "3                   Because he had a vowel movement.  \n",
       "4                                  'Can I join you?'  \n",
       "5                                         Bone-jour.  \n",
       "6                          He let out a little wine.  \n",
       "7                         Because it was well armed.  \n",
       "8                                 A tuba toothpaste.  \n",
       "9  12. January 2nd, February 2nd, March 2nd, Apri...  "
      ]
     },
     "execution_count": 9,
     "metadata": {},
     "output_type": "execute_result"
    }
   ],
   "source": [
    "df3 = pd.DataFrame(results2)\n",
    "df3.drop(columns=[\"type\",\"id\"],inplace=True)\n",
    "df3"
   ]
  },
  {
   "cell_type": "code",
   "execution_count": null,
   "metadata": {},
   "outputs": [],
   "source": []
  }
 ],
 "metadata": {
  "kernelspec": {
   "display_name": "Python 3",
   "language": "python",
   "name": "python3"
  },
  "language_info": {
   "codemirror_mode": {
    "name": "ipython",
    "version": 3
   },
   "file_extension": ".py",
   "mimetype": "text/x-python",
   "name": "python",
   "nbconvert_exporter": "python",
   "pygments_lexer": "ipython3",
   "version": "3.12.2"
  }
 },
 "nbformat": 4,
 "nbformat_minor": 2
}
