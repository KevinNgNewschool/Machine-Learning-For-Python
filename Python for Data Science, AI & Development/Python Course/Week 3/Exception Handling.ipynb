{
 "cells": [
  {
   "cell_type": "code",
   "execution_count": 1,
   "metadata": {},
   "outputs": [
    {
     "name": "stdout",
     "output_type": "stream",
     "text": [
      "1.0\n"
     ]
    }
   ],
   "source": [
    "numerator = int(input(\"Numeratr pls:\"))\n",
    "denominator = int(input(\"Denominator pls:\"))\n",
    "\n",
    "def safe_divide(numerator, denominator):\n",
    "    try:\n",
    "        quotient = numerator/denominator\n",
    "        return quotient\n",
    "    except ZeroDivisionError:\n",
    "        print(\"Dividing by zero is a big no no >:(\")\n",
    "        return None\n",
    "\n",
    "print(safe_divide(numerator,denominator)) "
   ]
  },
  {
   "cell_type": "code",
   "execution_count": 2,
   "metadata": {},
   "outputs": [
    {
     "name": "stdout",
     "output_type": "stream",
     "text": [
      "1.0\n"
     ]
    }
   ],
   "source": [
    "import math\n",
    "\n",
    "squr = float(input(\"Number pls: \"))\n",
    "def number1(squr):\n",
    "    try:\n",
    "        result = math.sqrt(squr)\n",
    "        print(result)\n",
    "    except ValueError:\n",
    "        print(\"Don't do that dummy!\")\n",
    "\n",
    "number1(squr)"
   ]
  },
  {
   "cell_type": "code",
   "execution_count": 3,
   "metadata": {},
   "outputs": [
    {
     "name": "stdout",
     "output_type": "stream",
     "text": [
      "-0.25\n"
     ]
    }
   ],
   "source": [
    "number = float(input(\"Mathematical Task at hand >w<\"))\n",
    "\n",
    "def ComplexMath(num):\n",
    "    try:\n",
    "        result = num/(num-5)\n",
    "        print(result)\n",
    "    except Exception as e:\n",
    "        print(\"Wrong XXX\")\n",
    "\n",
    "ComplexMath(number)"
   ]
  }
 ],
 "metadata": {
  "kernelspec": {
   "display_name": "Python 3",
   "language": "python",
   "name": "python3"
  },
  "language_info": {
   "codemirror_mode": {
    "name": "ipython",
    "version": 3
   },
   "file_extension": ".py",
   "mimetype": "text/x-python",
   "name": "python",
   "nbconvert_exporter": "python",
   "pygments_lexer": "ipython3",
   "version": "3.12.2"
  }
 },
 "nbformat": 4,
 "nbformat_minor": 2
}
