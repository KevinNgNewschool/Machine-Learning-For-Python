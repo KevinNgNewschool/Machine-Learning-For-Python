{
 "cells": [
  {
   "cell_type": "code",
   "execution_count": 1,
   "metadata": {},
   "outputs": [],
   "source": [
    "givenstring=\"Lorem ipsum dolor! diam amet, consetetur Lorem magna. sed diam nonumy eirmod tempor. diam et labore? et diam magna. et diam amet.\""
   ]
  },
  {
   "cell_type": "code",
   "execution_count": 2,
   "metadata": {},
   "outputs": [],
   "source": [
    "\n",
    "class TextAnalyzer(object):\n",
    "    \n",
    "    def __init__(self, text):\n",
    "        RawText = text.replace(\".\", \"\").replace(\",\", \"\").replace(\"?\", \"\").replace(\"!\", \"\")\n",
    "        RawText = RawText.lower()\n",
    "        self.RAWTEXT = RawText\n",
    "    \n",
    "    def freqAll(self):\n",
    "        list = self.RAWTEXT.split(\" \")\n",
    "        UniqueWordsDic = {}\n",
    "        for Words in set(list):\n",
    "            UniqueWordsDic[Words] = list.count(Words)\n",
    "        return UniqueWordsDic\n",
    "    \n",
    "    def freqOf(self, Words):\n",
    "        SpecificDic = self.freqAll()\n",
    "        if Words in SpecificDic:\n",
    "            return SpecificDic[Words]\n",
    "        else:\n",
    "            return 0\n"
   ]
  },
  {
   "cell_type": "code",
   "execution_count": 3,
   "metadata": {},
   "outputs": [
    {
     "name": "stdout",
     "output_type": "stream",
     "text": [
      "lorem ipsum dolor diam amet consetetur lorem magna sed diam nonumy eirmod tempor diam et labore et diam magna et diam amet\n"
     ]
    }
   ],
   "source": [
    "TextReadyToBeAnalyzed = TextAnalyzer(givenstring)\n",
    "print(TextReadyToBeAnalyzed.RAWTEXT)"
   ]
  },
  {
   "cell_type": "code",
   "execution_count": 4,
   "metadata": {},
   "outputs": [
    {
     "name": "stdout",
     "output_type": "stream",
     "text": [
      "{'ipsum': 1, 'nonumy': 1, 'labore': 1, 'sed': 1, 'et': 3, 'eirmod': 1, 'diam': 5, 'dolor': 1, 'consetetur': 1, 'tempor': 1, 'magna': 2, 'amet': 2, 'lorem': 2}\n"
     ]
    }
   ],
   "source": [
    "UniqueWordsDic = TextReadyToBeAnalyzed.freqAll()\n",
    "print(UniqueWordsDic)\n"
   ]
  },
  {
   "cell_type": "code",
   "execution_count": 5,
   "metadata": {},
   "outputs": [
    {
     "name": "stdout",
     "output_type": "stream",
     "text": [
      "0\n"
     ]
    }
   ],
   "source": [
    "Words = input(\"Word: \")\n",
    "SpecificDic = TextReadyToBeAnalyzed.freqOf(Words)\n",
    "print(SpecificDic)"
   ]
  },
  {
   "cell_type": "code",
   "execution_count": null,
   "metadata": {},
   "outputs": [],
   "source": []
  }
 ],
 "metadata": {
  "kernelspec": {
   "display_name": "Python 3",
   "language": "python",
   "name": "python3"
  },
  "language_info": {
   "codemirror_mode": {
    "name": "ipython",
    "version": 3
   },
   "file_extension": ".py",
   "mimetype": "text/x-python",
   "name": "python",
   "nbconvert_exporter": "python",
   "pygments_lexer": "ipython3",
   "version": "3.12.2"
  }
 },
 "nbformat": 4,
 "nbformat_minor": 2
}
