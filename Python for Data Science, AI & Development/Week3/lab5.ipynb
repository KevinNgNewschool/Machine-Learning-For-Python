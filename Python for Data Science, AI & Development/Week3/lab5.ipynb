{
 "cells": [
  {
   "cell_type": "code",
   "execution_count": 12,
   "metadata": {},
   "outputs": [
    {
     "name": "stdout",
     "output_type": "stream",
     "text": [
      "LightningMcqueen Stats:\n",
      "MaxSpeed - 200\n",
      "Mileage - 20\n",
      "Seats - 5\n",
      "colour - white\n",
      "Sally stats:\n",
      "MaxSpeed - 180\n",
      "Mileage - 25\n",
      "Seats - 4\n",
      "colour - white\n"
     ]
    }
   ],
   "source": [
    "class Cars:\n",
    "    colour = \"white\"\n",
    "\n",
    "    def __init__(self, MaxSpeed, Mileage):\n",
    "        self.MaxSpeed = MaxSpeed\n",
    "        self.Mileage = Mileage\n",
    "        self.Seats = None\n",
    "\n",
    "    def HowManySeats(self, Seats):\n",
    "        self.Seats = Seats\n",
    "    \n",
    "    def Properties(self):\n",
    "        print(\"MaxSpeed -\", self.MaxSpeed)\n",
    "        print(\"Mileage -\", self.Mileage)\n",
    "        print(\"Seats -\", self.Seats)\n",
    "        print(\"colour -\", self.colour)\n",
    "\n",
    "print('LightningMcqueen Stats:')\n",
    "LightningMcqueen = Cars(200, 20)\n",
    "LightningMcqueen.HowManySeats(5)\n",
    "LightningMcqueen.Properties()\n",
    "\n",
    "print('Sally stats:')\n",
    "Sally = Cars(180, 25)\n",
    "Sally.HowManySeats(4)\n",
    "Sally.Properties()"
   ]
  },
  {
   "cell_type": "code",
   "execution_count": 3,
   "metadata": {},
   "outputs": [],
   "source": [
    "\n"
   ]
  }
 ],
 "metadata": {
  "kernelspec": {
   "display_name": "Python 3",
   "language": "python",
   "name": "python3"
  },
  "language_info": {
   "codemirror_mode": {
    "name": "ipython",
    "version": 3
   },
   "file_extension": ".py",
   "mimetype": "text/x-python",
   "name": "python",
   "nbconvert_exporter": "python",
   "pygments_lexer": "ipython3",
   "version": "3.12.2"
  }
 },
 "nbformat": 4,
 "nbformat_minor": 2
}
